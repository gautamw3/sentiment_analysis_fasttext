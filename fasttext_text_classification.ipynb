{
 "cells": [
  {
   "cell_type": "code",
   "execution_count": 1,
   "id": "543af32b",
   "metadata": {},
   "outputs": [
    {
     "data": {
      "text/plain": [
       "(40000, 3)"
      ]
     },
     "execution_count": 1,
     "metadata": {},
     "output_type": "execute_result"
    }
   ],
   "source": [
    "import pandas as pd\n",
    "\n",
    "df = pd.read_csv(\"Data Sets/tweet_emotions.csv\")\n",
    "df.shape"
   ]
  },
  {
   "cell_type": "code",
   "execution_count": 2,
   "id": "14a27f9a",
   "metadata": {},
   "outputs": [
    {
     "data": {
      "text/plain": [
       "neutral       8638\n",
       "worry         8459\n",
       "happiness     5209\n",
       "sadness       5165\n",
       "love          3842\n",
       "surprise      2187\n",
       "fun           1776\n",
       "relief        1526\n",
       "hate          1323\n",
       "empty          827\n",
       "enthusiasm     759\n",
       "boredom        179\n",
       "anger          110\n",
       "Name: sentiment, dtype: int64"
      ]
     },
     "execution_count": 2,
     "metadata": {},
     "output_type": "execute_result"
    }
   ],
   "source": [
    "df['sentiment'].value_counts()"
   ]
  },
  {
   "cell_type": "code",
   "execution_count": 3,
   "id": "26c8c20d",
   "metadata": {},
   "outputs": [
    {
     "data": {
      "text/plain": [
       "neutral      8638\n",
       "worry        8459\n",
       "happiness    5209\n",
       "sadness      5165\n",
       "love         3842\n",
       "Name: sentiment, dtype: int64"
      ]
     },
     "execution_count": 3,
     "metadata": {},
     "output_type": "execute_result"
    }
   ],
   "source": [
    "ignored_items_list = [\n",
    "    'surprise',\n",
    "    'fun',\n",
    "    'relief',\n",
    "    'hate',\n",
    "    'empty',\n",
    "    'enthusiasm',\n",
    "    'boredom',\n",
    "    'anger'\n",
    "]\n",
    "\n",
    "df = df[~df['sentiment'].isin(ignored_items_list)]\n",
    "df['sentiment'].value_counts()"
   ]
  },
  {
   "cell_type": "code",
   "execution_count": 4,
   "id": "c11f350b",
   "metadata": {},
   "outputs": [
    {
     "data": {
      "text/html": [
       "<div>\n",
       "<style scoped>\n",
       "    .dataframe tbody tr th:only-of-type {\n",
       "        vertical-align: middle;\n",
       "    }\n",
       "\n",
       "    .dataframe tbody tr th {\n",
       "        vertical-align: top;\n",
       "    }\n",
       "\n",
       "    .dataframe thead th {\n",
       "        text-align: right;\n",
       "    }\n",
       "</style>\n",
       "<table border=\"1\" class=\"dataframe\">\n",
       "  <thead>\n",
       "    <tr style=\"text-align: right;\">\n",
       "      <th></th>\n",
       "      <th>tweet_id</th>\n",
       "      <th>sentiment</th>\n",
       "      <th>content</th>\n",
       "    </tr>\n",
       "  </thead>\n",
       "  <tbody>\n",
       "    <tr>\n",
       "      <th>1</th>\n",
       "      <td>1956967666</td>\n",
       "      <td>__label__sadness</td>\n",
       "      <td>Layin n bed with a headache  ughhhh...waitin o...</td>\n",
       "    </tr>\n",
       "    <tr>\n",
       "      <th>2</th>\n",
       "      <td>1956967696</td>\n",
       "      <td>__label__sadness</td>\n",
       "      <td>Funeral ceremony...gloomy friday...</td>\n",
       "    </tr>\n",
       "    <tr>\n",
       "      <th>4</th>\n",
       "      <td>1956968416</td>\n",
       "      <td>__label__neutral</td>\n",
       "      <td>@dannycastillo We want to trade with someone w...</td>\n",
       "    </tr>\n",
       "    <tr>\n",
       "      <th>5</th>\n",
       "      <td>1956968477</td>\n",
       "      <td>__label__worry</td>\n",
       "      <td>Re-pinging @ghostridah14: why didn't you go to...</td>\n",
       "    </tr>\n",
       "    <tr>\n",
       "      <th>6</th>\n",
       "      <td>1956968487</td>\n",
       "      <td>__label__sadness</td>\n",
       "      <td>I should be sleep, but im not! thinking about ...</td>\n",
       "    </tr>\n",
       "    <tr>\n",
       "      <th>...</th>\n",
       "      <td>...</td>\n",
       "      <td>...</td>\n",
       "      <td>...</td>\n",
       "    </tr>\n",
       "    <tr>\n",
       "      <th>39995</th>\n",
       "      <td>1753918954</td>\n",
       "      <td>__label__neutral</td>\n",
       "      <td>@JohnLloydTaylor</td>\n",
       "    </tr>\n",
       "    <tr>\n",
       "      <th>39996</th>\n",
       "      <td>1753919001</td>\n",
       "      <td>__label__love</td>\n",
       "      <td>Happy Mothers Day  All my love</td>\n",
       "    </tr>\n",
       "    <tr>\n",
       "      <th>39997</th>\n",
       "      <td>1753919005</td>\n",
       "      <td>__label__love</td>\n",
       "      <td>Happy Mother's Day to all the mommies out ther...</td>\n",
       "    </tr>\n",
       "    <tr>\n",
       "      <th>39998</th>\n",
       "      <td>1753919043</td>\n",
       "      <td>__label__happiness</td>\n",
       "      <td>@niariley WASSUP BEAUTIFUL!!! FOLLOW ME!!  PEE...</td>\n",
       "    </tr>\n",
       "    <tr>\n",
       "      <th>39999</th>\n",
       "      <td>1753919049</td>\n",
       "      <td>__label__love</td>\n",
       "      <td>@mopedronin bullet train from tokyo    the gf ...</td>\n",
       "    </tr>\n",
       "  </tbody>\n",
       "</table>\n",
       "<p>31313 rows × 3 columns</p>\n",
       "</div>"
      ],
      "text/plain": [
       "         tweet_id           sentiment  \\\n",
       "1      1956967666    __label__sadness   \n",
       "2      1956967696    __label__sadness   \n",
       "4      1956968416    __label__neutral   \n",
       "5      1956968477      __label__worry   \n",
       "6      1956968487    __label__sadness   \n",
       "...           ...                 ...   \n",
       "39995  1753918954    __label__neutral   \n",
       "39996  1753919001       __label__love   \n",
       "39997  1753919005       __label__love   \n",
       "39998  1753919043  __label__happiness   \n",
       "39999  1753919049       __label__love   \n",
       "\n",
       "                                                 content  \n",
       "1      Layin n bed with a headache  ughhhh...waitin o...  \n",
       "2                    Funeral ceremony...gloomy friday...  \n",
       "4      @dannycastillo We want to trade with someone w...  \n",
       "5      Re-pinging @ghostridah14: why didn't you go to...  \n",
       "6      I should be sleep, but im not! thinking about ...  \n",
       "...                                                  ...  \n",
       "39995                                   @JohnLloydTaylor  \n",
       "39996                     Happy Mothers Day  All my love  \n",
       "39997  Happy Mother's Day to all the mommies out ther...  \n",
       "39998  @niariley WASSUP BEAUTIFUL!!! FOLLOW ME!!  PEE...  \n",
       "39999  @mopedronin bullet train from tokyo    the gf ...  \n",
       "\n",
       "[31313 rows x 3 columns]"
      ]
     },
     "execution_count": 4,
     "metadata": {},
     "output_type": "execute_result"
    }
   ],
   "source": [
    "df['sentiment'] = '__label__' + df['sentiment'].astype(str)\n",
    "df"
   ]
  },
  {
   "cell_type": "code",
   "execution_count": 5,
   "id": "713fa5b4",
   "metadata": {},
   "outputs": [
    {
     "data": {
      "text/plain": [
       "array(['__label__sadness', '__label__neutral', '__label__worry',\n",
       "       '__label__love', '__label__happiness'], dtype=object)"
      ]
     },
     "execution_count": 5,
     "metadata": {},
     "output_type": "execute_result"
    }
   ],
   "source": [
    "df.sentiment.unique()"
   ]
  },
  {
   "cell_type": "code",
   "execution_count": 6,
   "id": "a02759fe",
   "metadata": {},
   "outputs": [
    {
     "data": {
      "text/html": [
       "<div>\n",
       "<style scoped>\n",
       "    .dataframe tbody tr th:only-of-type {\n",
       "        vertical-align: middle;\n",
       "    }\n",
       "\n",
       "    .dataframe tbody tr th {\n",
       "        vertical-align: top;\n",
       "    }\n",
       "\n",
       "    .dataframe thead th {\n",
       "        text-align: right;\n",
       "    }\n",
       "</style>\n",
       "<table border=\"1\" class=\"dataframe\">\n",
       "  <thead>\n",
       "    <tr style=\"text-align: right;\">\n",
       "      <th></th>\n",
       "      <th>tweet_id</th>\n",
       "      <th>sentiment</th>\n",
       "      <th>content</th>\n",
       "      <th>sentiment_description</th>\n",
       "    </tr>\n",
       "  </thead>\n",
       "  <tbody>\n",
       "    <tr>\n",
       "      <th>1</th>\n",
       "      <td>1956967666</td>\n",
       "      <td>__label__sadness</td>\n",
       "      <td>Layin n bed with a headache  ughhhh...waitin o...</td>\n",
       "      <td>__label__sadness Layin n bed with a headache  ...</td>\n",
       "    </tr>\n",
       "    <tr>\n",
       "      <th>2</th>\n",
       "      <td>1956967696</td>\n",
       "      <td>__label__sadness</td>\n",
       "      <td>Funeral ceremony...gloomy friday...</td>\n",
       "      <td>__label__sadness Funeral ceremony...gloomy fri...</td>\n",
       "    </tr>\n",
       "    <tr>\n",
       "      <th>4</th>\n",
       "      <td>1956968416</td>\n",
       "      <td>__label__neutral</td>\n",
       "      <td>@dannycastillo We want to trade with someone w...</td>\n",
       "      <td>__label__neutral @dannycastillo We want to tra...</td>\n",
       "    </tr>\n",
       "    <tr>\n",
       "      <th>5</th>\n",
       "      <td>1956968477</td>\n",
       "      <td>__label__worry</td>\n",
       "      <td>Re-pinging @ghostridah14: why didn't you go to...</td>\n",
       "      <td>__label__worry Re-pinging @ghostridah14: why d...</td>\n",
       "    </tr>\n",
       "    <tr>\n",
       "      <th>6</th>\n",
       "      <td>1956968487</td>\n",
       "      <td>__label__sadness</td>\n",
       "      <td>I should be sleep, but im not! thinking about ...</td>\n",
       "      <td>__label__sadness I should be sleep, but im not...</td>\n",
       "    </tr>\n",
       "    <tr>\n",
       "      <th>...</th>\n",
       "      <td>...</td>\n",
       "      <td>...</td>\n",
       "      <td>...</td>\n",
       "      <td>...</td>\n",
       "    </tr>\n",
       "    <tr>\n",
       "      <th>39995</th>\n",
       "      <td>1753918954</td>\n",
       "      <td>__label__neutral</td>\n",
       "      <td>@JohnLloydTaylor</td>\n",
       "      <td>__label__neutral @JohnLloydTaylor</td>\n",
       "    </tr>\n",
       "    <tr>\n",
       "      <th>39996</th>\n",
       "      <td>1753919001</td>\n",
       "      <td>__label__love</td>\n",
       "      <td>Happy Mothers Day  All my love</td>\n",
       "      <td>__label__love Happy Mothers Day  All my love</td>\n",
       "    </tr>\n",
       "    <tr>\n",
       "      <th>39997</th>\n",
       "      <td>1753919005</td>\n",
       "      <td>__label__love</td>\n",
       "      <td>Happy Mother's Day to all the mommies out ther...</td>\n",
       "      <td>__label__love Happy Mother's Day to all the mo...</td>\n",
       "    </tr>\n",
       "    <tr>\n",
       "      <th>39998</th>\n",
       "      <td>1753919043</td>\n",
       "      <td>__label__happiness</td>\n",
       "      <td>@niariley WASSUP BEAUTIFUL!!! FOLLOW ME!!  PEE...</td>\n",
       "      <td>__label__happiness @niariley WASSUP BEAUTIFUL!...</td>\n",
       "    </tr>\n",
       "    <tr>\n",
       "      <th>39999</th>\n",
       "      <td>1753919049</td>\n",
       "      <td>__label__love</td>\n",
       "      <td>@mopedronin bullet train from tokyo    the gf ...</td>\n",
       "      <td>__label__love @mopedronin bullet train from to...</td>\n",
       "    </tr>\n",
       "  </tbody>\n",
       "</table>\n",
       "<p>31313 rows × 4 columns</p>\n",
       "</div>"
      ],
      "text/plain": [
       "         tweet_id           sentiment  \\\n",
       "1      1956967666    __label__sadness   \n",
       "2      1956967696    __label__sadness   \n",
       "4      1956968416    __label__neutral   \n",
       "5      1956968477      __label__worry   \n",
       "6      1956968487    __label__sadness   \n",
       "...           ...                 ...   \n",
       "39995  1753918954    __label__neutral   \n",
       "39996  1753919001       __label__love   \n",
       "39997  1753919005       __label__love   \n",
       "39998  1753919043  __label__happiness   \n",
       "39999  1753919049       __label__love   \n",
       "\n",
       "                                                 content  \\\n",
       "1      Layin n bed with a headache  ughhhh...waitin o...   \n",
       "2                    Funeral ceremony...gloomy friday...   \n",
       "4      @dannycastillo We want to trade with someone w...   \n",
       "5      Re-pinging @ghostridah14: why didn't you go to...   \n",
       "6      I should be sleep, but im not! thinking about ...   \n",
       "...                                                  ...   \n",
       "39995                                   @JohnLloydTaylor   \n",
       "39996                     Happy Mothers Day  All my love   \n",
       "39997  Happy Mother's Day to all the mommies out ther...   \n",
       "39998  @niariley WASSUP BEAUTIFUL!!! FOLLOW ME!!  PEE...   \n",
       "39999  @mopedronin bullet train from tokyo    the gf ...   \n",
       "\n",
       "                                   sentiment_description  \n",
       "1      __label__sadness Layin n bed with a headache  ...  \n",
       "2      __label__sadness Funeral ceremony...gloomy fri...  \n",
       "4      __label__neutral @dannycastillo We want to tra...  \n",
       "5      __label__worry Re-pinging @ghostridah14: why d...  \n",
       "6      __label__sadness I should be sleep, but im not...  \n",
       "...                                                  ...  \n",
       "39995                  __label__neutral @JohnLloydTaylor  \n",
       "39996       __label__love Happy Mothers Day  All my love  \n",
       "39997  __label__love Happy Mother's Day to all the mo...  \n",
       "39998  __label__happiness @niariley WASSUP BEAUTIFUL!...  \n",
       "39999  __label__love @mopedronin bullet train from to...  \n",
       "\n",
       "[31313 rows x 4 columns]"
      ]
     },
     "execution_count": 6,
     "metadata": {},
     "output_type": "execute_result"
    }
   ],
   "source": [
    "df['sentiment_description'] = df['sentiment'] + ' ' + df['content']\n",
    "df"
   ]
  },
  {
   "cell_type": "code",
   "execution_count": 7,
   "id": "6053aaca",
   "metadata": {},
   "outputs": [
    {
     "data": {
      "text/html": [
       "<div>\n",
       "<style scoped>\n",
       "    .dataframe tbody tr th:only-of-type {\n",
       "        vertical-align: middle;\n",
       "    }\n",
       "\n",
       "    .dataframe tbody tr th {\n",
       "        vertical-align: top;\n",
       "    }\n",
       "\n",
       "    .dataframe thead th {\n",
       "        text-align: right;\n",
       "    }\n",
       "</style>\n",
       "<table border=\"1\" class=\"dataframe\">\n",
       "  <thead>\n",
       "    <tr style=\"text-align: right;\">\n",
       "      <th></th>\n",
       "      <th>tweet_id</th>\n",
       "      <th>sentiment</th>\n",
       "      <th>content</th>\n",
       "      <th>sentiment_description</th>\n",
       "    </tr>\n",
       "  </thead>\n",
       "  <tbody>\n",
       "    <tr>\n",
       "      <th>1</th>\n",
       "      <td>1956967666</td>\n",
       "      <td>__label__sadness</td>\n",
       "      <td>Layin n bed with a headache  ughhhh...waitin o...</td>\n",
       "      <td>__label__sadness layin n bed with a headache u...</td>\n",
       "    </tr>\n",
       "    <tr>\n",
       "      <th>2</th>\n",
       "      <td>1956967696</td>\n",
       "      <td>__label__sadness</td>\n",
       "      <td>Funeral ceremony...gloomy friday...</td>\n",
       "      <td>__label__sadness funeral ceremony gloomy friday</td>\n",
       "    </tr>\n",
       "    <tr>\n",
       "      <th>4</th>\n",
       "      <td>1956968416</td>\n",
       "      <td>__label__neutral</td>\n",
       "      <td>@dannycastillo We want to trade with someone w...</td>\n",
       "      <td>__label__neutral dannycastillo we want to trad...</td>\n",
       "    </tr>\n",
       "    <tr>\n",
       "      <th>5</th>\n",
       "      <td>1956968477</td>\n",
       "      <td>__label__worry</td>\n",
       "      <td>Re-pinging @ghostridah14: why didn't you go to...</td>\n",
       "      <td>__label__worry re pinging ghostridah14 why did...</td>\n",
       "    </tr>\n",
       "    <tr>\n",
       "      <th>6</th>\n",
       "      <td>1956968487</td>\n",
       "      <td>__label__sadness</td>\n",
       "      <td>I should be sleep, but im not! thinking about ...</td>\n",
       "      <td>__label__sadness i should be sleep but im not ...</td>\n",
       "    </tr>\n",
       "    <tr>\n",
       "      <th>...</th>\n",
       "      <td>...</td>\n",
       "      <td>...</td>\n",
       "      <td>...</td>\n",
       "      <td>...</td>\n",
       "    </tr>\n",
       "    <tr>\n",
       "      <th>39995</th>\n",
       "      <td>1753918954</td>\n",
       "      <td>__label__neutral</td>\n",
       "      <td>@JohnLloydTaylor</td>\n",
       "      <td>__label__neutral johnlloydtaylor</td>\n",
       "    </tr>\n",
       "    <tr>\n",
       "      <th>39996</th>\n",
       "      <td>1753919001</td>\n",
       "      <td>__label__love</td>\n",
       "      <td>Happy Mothers Day  All my love</td>\n",
       "      <td>__label__love happy mothers day all my love</td>\n",
       "    </tr>\n",
       "    <tr>\n",
       "      <th>39997</th>\n",
       "      <td>1753919005</td>\n",
       "      <td>__label__love</td>\n",
       "      <td>Happy Mother's Day to all the mommies out ther...</td>\n",
       "      <td>__label__love happy mother's day to all the mo...</td>\n",
       "    </tr>\n",
       "    <tr>\n",
       "      <th>39998</th>\n",
       "      <td>1753919043</td>\n",
       "      <td>__label__happiness</td>\n",
       "      <td>@niariley WASSUP BEAUTIFUL!!! FOLLOW ME!!  PEE...</td>\n",
       "      <td>__label__happiness niariley wassup beautiful f...</td>\n",
       "    </tr>\n",
       "    <tr>\n",
       "      <th>39999</th>\n",
       "      <td>1753919049</td>\n",
       "      <td>__label__love</td>\n",
       "      <td>@mopedronin bullet train from tokyo    the gf ...</td>\n",
       "      <td>__label__love mopedronin bullet train from tok...</td>\n",
       "    </tr>\n",
       "  </tbody>\n",
       "</table>\n",
       "<p>31313 rows × 4 columns</p>\n",
       "</div>"
      ],
      "text/plain": [
       "         tweet_id           sentiment  \\\n",
       "1      1956967666    __label__sadness   \n",
       "2      1956967696    __label__sadness   \n",
       "4      1956968416    __label__neutral   \n",
       "5      1956968477      __label__worry   \n",
       "6      1956968487    __label__sadness   \n",
       "...           ...                 ...   \n",
       "39995  1753918954    __label__neutral   \n",
       "39996  1753919001       __label__love   \n",
       "39997  1753919005       __label__love   \n",
       "39998  1753919043  __label__happiness   \n",
       "39999  1753919049       __label__love   \n",
       "\n",
       "                                                 content  \\\n",
       "1      Layin n bed with a headache  ughhhh...waitin o...   \n",
       "2                    Funeral ceremony...gloomy friday...   \n",
       "4      @dannycastillo We want to trade with someone w...   \n",
       "5      Re-pinging @ghostridah14: why didn't you go to...   \n",
       "6      I should be sleep, but im not! thinking about ...   \n",
       "...                                                  ...   \n",
       "39995                                   @JohnLloydTaylor   \n",
       "39996                     Happy Mothers Day  All my love   \n",
       "39997  Happy Mother's Day to all the mommies out ther...   \n",
       "39998  @niariley WASSUP BEAUTIFUL!!! FOLLOW ME!!  PEE...   \n",
       "39999  @mopedronin bullet train from tokyo    the gf ...   \n",
       "\n",
       "                                   sentiment_description  \n",
       "1      __label__sadness layin n bed with a headache u...  \n",
       "2        __label__sadness funeral ceremony gloomy friday  \n",
       "4      __label__neutral dannycastillo we want to trad...  \n",
       "5      __label__worry re pinging ghostridah14 why did...  \n",
       "6      __label__sadness i should be sleep but im not ...  \n",
       "...                                                  ...  \n",
       "39995                   __label__neutral johnlloydtaylor  \n",
       "39996        __label__love happy mothers day all my love  \n",
       "39997  __label__love happy mother's day to all the mo...  \n",
       "39998  __label__happiness niariley wassup beautiful f...  \n",
       "39999  __label__love mopedronin bullet train from tok...  \n",
       "\n",
       "[31313 rows x 4 columns]"
      ]
     },
     "execution_count": 7,
     "metadata": {},
     "output_type": "execute_result"
    }
   ],
   "source": [
    "import re\n",
    "\n",
    "def preprocess_text(text):\n",
    "    text = re.sub(r'[^\\w\\s\\']', ' ', text)\n",
    "    text = re.sub(r' +', ' ', text)\n",
    "    return text.strip().lower()\n",
    "\n",
    "df['sentiment_description'] = df['sentiment_description'].map(preprocess_text)\n",
    "df"
   ]
  },
  {
   "cell_type": "code",
   "execution_count": 8,
   "id": "a7819c0c",
   "metadata": {},
   "outputs": [
    {
     "data": {
      "text/plain": [
       "'__label__sadness layin n bed with a headache ughhhh waitin on your call'"
      ]
     },
     "execution_count": 8,
     "metadata": {},
     "output_type": "execute_result"
    }
   ],
   "source": [
    "df['sentiment_description'][1]"
   ]
  },
  {
   "cell_type": "code",
   "execution_count": 9,
   "id": "fc043ba7",
   "metadata": {},
   "outputs": [
    {
     "data": {
      "text/plain": [
       "((25050, 4), (6263, 4))"
      ]
     },
     "execution_count": 9,
     "metadata": {},
     "output_type": "execute_result"
    }
   ],
   "source": [
    "from sklearn.model_selection import train_test_split\n",
    "train, test = train_test_split(df, test_size=0.2)\n",
    "train.shape, test.shape"
   ]
  },
  {
   "cell_type": "code",
   "execution_count": 10,
   "id": "eff8c2c3",
   "metadata": {},
   "outputs": [],
   "source": [
    "train.to_csv(\"Fast Text Data Files/sentiment.train\", columns=['sentiment_description'], index=False, header=False)\n",
    "test.to_csv(\"Fast Text Data Files/sentiment.test\", columns=['sentiment_description'], index=False, header=False)"
   ]
  },
  {
   "cell_type": "code",
   "execution_count": 11,
   "id": "fed5c8b2",
   "metadata": {},
   "outputs": [
    {
     "name": "stderr",
     "output_type": "stream",
     "text": [
      "Read 0M words\n",
      "Number of words:  35105\n",
      "Number of labels: 5\n",
      "Progress: 100.0% words/sec/thread: 1061820 lr:  0.000000 avg.loss:  1.250116 ETA:   0h 0m 0s\n"
     ]
    }
   ],
   "source": [
    "import fasttext\n",
    "model = fasttext.train_supervised(input=\"Fast Text Data Files/sentiment.train\")"
   ]
  },
  {
   "cell_type": "code",
   "execution_count": 12,
   "id": "c5a58905",
   "metadata": {},
   "outputs": [
    {
     "data": {
      "text/plain": [
       "(6263, 0.4418010538080792, 0.4418010538080792)"
      ]
     },
     "execution_count": 12,
     "metadata": {},
     "output_type": "execute_result"
    }
   ],
   "source": [
    "model.test(\"Fast Text Data Files/sentiment.test\")"
   ]
  },
  {
   "cell_type": "code",
   "execution_count": 13,
   "id": "d1890385",
   "metadata": {},
   "outputs": [
    {
     "data": {
      "text/plain": [
       "(('__label__worry',), array([0.26392221]))"
      ]
     },
     "execution_count": 13,
     "metadata": {},
     "output_type": "execute_result"
    }
   ],
   "source": [
    "model.predict(\"@RobertF3 correct! I ADORE him. I just plucked him up and put him under my arm cuz he was cryin.  All better now! Hahaha\")"
   ]
  },
  {
   "cell_type": "code",
   "execution_count": 14,
   "id": "7ceab75b",
   "metadata": {},
   "outputs": [
    {
     "data": {
      "text/plain": [
       "(('__label__sadness',), array([0.81296849]))"
      ]
     },
     "execution_count": 14,
     "metadata": {},
     "output_type": "execute_result"
    }
   ],
   "source": [
    "model.predict(\"I missed the bl***y bus!!!!!!!!\")"
   ]
  }
 ],
 "metadata": {
  "kernelspec": {
   "display_name": "Python 3 (ipykernel)",
   "language": "python",
   "name": "python3"
  },
  "language_info": {
   "codemirror_mode": {
    "name": "ipython",
    "version": 3
   },
   "file_extension": ".py",
   "mimetype": "text/x-python",
   "name": "python",
   "nbconvert_exporter": "python",
   "pygments_lexer": "ipython3",
   "version": "3.10.6"
  }
 },
 "nbformat": 4,
 "nbformat_minor": 5
}
